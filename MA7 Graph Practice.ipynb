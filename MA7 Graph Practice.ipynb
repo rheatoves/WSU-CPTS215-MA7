{
 "cells": [
  {
   "cell_type": "markdown",
   "metadata": {},
   "source": [
    "# [CptS 215 Data Analytics Systems and Algorithms](https://piazza.com/wsu/fall2017/cpts215/home)\n",
    "[Washington State University](https://wsu.edu)\n",
    "\n",
    "[Gina Sprint](http://eecs.wsu.edu/~gsprint/)\n",
    "## MA7 Graph Practice (50 pts)\n",
    "<mark>Due:</mark>\n",
    "\n",
    "### Learner Objectives\n",
    "At the conclusion of this micro assignment, participants should be able to:\n",
    "* Implement/analyze graphs\n",
    "* Traverse graphs\n",
    "\n",
    "### Prerequisites\n",
    "Before starting this micro assignment, participants should be able to:\n",
    "* Write Markdown and code cells in Jupyter Notebook\n",
    "* Perform algorithm analysis\n",
    "\n",
    "### Acknowledgments\n",
    "Content used in this assignment is based upon information in the following sources:\n",
    "* [Data Structures: Abstraction and Design Using Java](https://www.wiley.com/en-us/Data+Structures%3A+Abstraction+and+Design+Using+Java%2C+3rd+Edition-p-9781119186526) by Koffman and Wolfgang\n",
    "* [Miller and Ranum](https://runestone.academy/runestone/books/published/pythonds/Graphs/DiscussionQuestions.html)"
   ]
  },
  {
   "cell_type": "markdown",
   "metadata": {
    "collapsed": true
   },
   "source": [
    "## Overview and Requirements\n",
    "For this micro assignment, you are going to download this Jupyter Notebook and answer the following questions. Your answer for a problem should be in a cell *immediately* after the problem cell. *Do not modify the problem cell.*\n",
    "\n",
    "We are going to solve several problems related to graphs and their efficiency. This micro assignment includes conceptional questions and programming.\n",
    "\n",
    "### Conceptual Questions (28 pts)\n",
    "Solve the following problems and *justify* your answers:"
   ]
  },
  {
   "cell_type": "markdown",
   "metadata": {},
   "source": [
    "&nbsp; &nbsp; 1. (2 pts) Draw the graph corresponding to the following list of edges.\n",
    "\n",
    "|from|to|cost|\n",
    "|-|-|-|\n",
    "|1\t|2|\t10|\n",
    "|1\t|3|\t15|\n",
    "|1\t|6|\t5|\n",
    "|2\t|3|\t7|\n",
    "|3\t|4|\t7|\n",
    "|3\t|6|\t10|\n",
    "|4\t|5|\t7|\n",
    "|6\t|4|\t5|\n",
    "|5\t|6|\t13|"
   ]
  },
  {
   "cell_type": "code",
   "execution_count": null,
   "metadata": {},
   "outputs": [],
   "source": [
    "\n",
    "     2\n",
    "    / \\\n",
    "  (10)(7)\n",
    "  /     \\\n",
    "1--(15)--3--(7)--4--(7)--5\n",
    "  \\      /      /       /\n",
    "  (5)  (10)   (5)     (13)\n",
    "    \\  /      /       /\n",
    "      6----->/-----<-/\n",
    "    "
   ]
  },
  {
   "cell_type": "markdown",
   "metadata": {},
   "source": [
    "&nbsp; &nbsp; 2. (2 pts) Draw the graph corresponding to the following adjacency matrix:\n",
    "\n",
    "<img src=\"https://runestone.academy/runestone/books/published/pythonds/_images/adjMatEX.png\" width=\"350\"/>\n",
    "\n",
    "(image from [https://runestone.academy/runestone/books/published/pythonds/_images/adjMatEX.png](https://runestone.academy/runestone/books/published/pythonds/_images/adjMatEX.png))"
   ]
  },
  {
   "cell_type": "code",
   "execution_count": null,
   "metadata": {},
   "outputs": [],
   "source": [
    "\n",
    "(back to E)      (back to A)\n",
    "          \\     /       \n",
    "          (3) (2)      (4)->(back to F)\n",
    "            \\ /        /\n",
    "            >B<--(7)->D--(1)->(back to A)\n",
    "           /   \\      |\n",
    "         (7)   (2) (down 2)\n",
    "         /       \\    |\n",
    "        A--(5)--->C   |\n",
    "         \\       /    |\n",
    "         (1)   (8)  (up 5)\n",
    "           \\  /       |\n",
    "            >F--(8)-->E--(6)->(back to A)\n",
    "             \\\n",
    "             (1)\n",
    "               \\\n",
    "                (back to B)\n",
    "    "
   ]
  },
  {
   "cell_type": "markdown",
   "metadata": {},
   "source": [
    "&nbsp; &nbsp; 3. For the following digraph:\n",
    "\n",
    "<img src=\"https://raw.githubusercontent.com/gsprint23/cpts215/master/microassignments/figures/ma7_digraph.png\" width=\"400\"/>\n",
    "\n",
    "    A. (2 pts) List the vertices.<br>\n",
    "    B. (2 pts) List the edges.<br>\n",
    "    C. (2 pts) Does this graph contain any cycles? <br>\n",
    "    D. (2 pts) Show the adjacency matrix. <br>\n",
    "    E. (2 pts) Show the adjacency list.<br>"
   ]
  },
  {
   "cell_type": "code",
   "execution_count": null,
   "metadata": {},
   "outputs": [],
   "source": [
    "A. 0, 1, 2, 3, 4, 5, 6, 7\n",
    "\n",
    "B. 0-1, 0-3, 0-5, 1-2, 2-4, 3-4, 4-7, 5-3, 5-6, 6-7\n",
    "\n",
    "C. There are no cylces within this graph.\n",
    "\n",
    "D.  0   1   2   3   4   5   6   7\n",
    "0   0   1   0   1   0   1   0   0\n",
    "1   0   0   1   0   0   0   0   0\n",
    "2   0   0   0   0   1   0   0   0\n",
    "3   0   0   0   0   1   0   0   0\n",
    "4   0   0   0   0   0   0   0   1\n",
    "5   0   0   0   1   0   0   0   0\n",
    "6   0   0   0   0   0   0   0   1\n",
    "7   0   0   0   0   0   0   0   0\n",
    "\n",
    "E. 0 --> 1 --> 3 --> 5\n",
    "   1 --> 2 --> 4 --> 7\n",
    "   2 --> 4 --> 7\n",
    "   3 --> 4 --> 7\n",
    "   4 --> 7\n",
    "   5 --> 3 --> 4 --> 7\n",
    "   6 --> 7"
   ]
  },
  {
   "cell_type": "markdown",
   "metadata": {},
   "source": [
    "&nbsp; &nbsp; 4. For the following digraph:\n",
    "\n",
    "<img src=\"https://raw.githubusercontent.com/gsprint23/cpts215/master/microassignments/figures/ma7_digraph.png\" width=\"400\"/>\n",
    "\n",
    "    A.. Starting at vertex 0, list the vertices in the graph in the order they would be visited during a:<br>\n",
    "    &nbsp;&nbsp;&nbsp;&nbsp; (i). (2 pts) Breadth-first traversal.<br>\n",
    "    &nbsp;&nbsp;&nbsp;&nbsp; (ii). (2 pts) Depth-first traversal.<br>\n",
    "    B. (2 pts) Starting at vertex 0, show the breadth-first search tree subgraph.<br>\n",
    "    C. (2 pts) Starting at vertex 0, show the depth-first search tree subgraph.<br>"
   ]
  },
  {
   "cell_type": "code",
   "execution_count": null,
   "metadata": {},
   "outputs": [],
   "source": [
    "A. i. 0 --> 1 --> 3 --> 5 --> 2 --> 4 --> 6 --> 7\n",
    "  ii. 0 --> 1 --> 2 --> 4 --> 7 --> 3 --> 5 --> 6\n",
    "    \n",
    "    \n",
    "     1-->2\n",
    "    /\n",
    "B. 0-->3-->4\n",
    "    \\\n",
    "     5-->6-->7\n",
    "    \n",
    "     1-->2\n",
    "    /\n",
    "C. 0-->3-->4-->7\n",
    "    \\\n",
    "     5-->6"
   ]
  },
  {
   "cell_type": "markdown",
   "metadata": {},
   "source": [
    "&nbsp; &nbsp; 5. (2 pts) What is the time complexity for breadth-first search and for depth-first search?"
   ]
  },
  {
   "cell_type": "code",
   "execution_count": null,
   "metadata": {},
   "outputs": [],
   "source": [
    "BFS: O(V + E)\n",
    "DFS: O(V + E)"
   ]
  },
  {
   "cell_type": "markdown",
   "metadata": {},
   "source": [
    "&nbsp; &nbsp; 6. (4 pts) For the following weighted digraph, find the shortest path from 0 to all other vertices.\n",
    "\n",
    "<img src=\"https://raw.githubusercontent.com/gsprint23/cpts215/master/microassignments/figures/ma7_weighted_digraph.png\" width=\"400\"/>"
   ]
  },
  {
   "cell_type": "code",
   "execution_count": null,
   "metadata": {},
   "outputs": [],
   "source": [
    "\n",
    "    0--(10)------->1\n",
    "    |             /\n",
    "    |     3     (5)\n",
    "  (20)   /      /\n",
    "    | (10)     4\n",
    "    | /         \\\n",
    "    5--(5)->6    \\\n",
    "                 (10)\n",
    "                   \\\n",
    "                    7\n",
    "        "
   ]
  },
  {
   "cell_type": "markdown",
   "metadata": {},
   "source": [
    "### Implementation Question (20 pts)\n",
    "\n",
    "#### Graph class\n",
    "Implement an unweighted Graph using an <b>adjacency matrix</b> representation where the vertices are represented as rows and columns of a matrix and the edges are represented by the cells at the intersection of the row and column vertices.\n",
    "\n",
    "As part of the implementation, define a list to store vertices and a 2-dimensional list to store edges. Define methods to add and remove vertices and edges to the graphs, and print the string representation of the graph.\n",
    "\n",
    "Below is the list of fields and methods to be defined for the implementation:\n",
    "- `Graph` class:\n",
    "   - Fields: \n",
    "       - `self.vert_list`: list of all the vertices\n",
    "       - `self.adj_matrix`: 2-dimensional Python list respresenting edges between the vertices.<br><br>\n",
    "       \n",
    "   - Methods:\n",
    "       - `__init__(self)`: initializes the vert_list to an empty list, the and adj_matrix to an empty 2-D list.\n",
    "       - `add_vertex(self, key)`: adds a vertex to the vert_list if it does not exist already. If the vertex exists in the vert_list, the list is not modified.\n",
    "       - `add_edge(self, v1, v2)`: adds an edge of weight 1 between vertices v1 and v2, as well as v2 and v1 in the adj_matrix. If either vertex is not present in the vert_list, the vertex is added to the vert_list, and then the edge is added to the adj_matrix.\n",
    "       - `__str__(self)`: retuns a string representation of the graph in the form:<br>\n",
    "       &nbsp;&nbsp;&nbsp;&nbsp; (v1, v2)<br>\n",
    "       &nbsp;&nbsp;&nbsp;&nbsp; (v1, v3)<br>\n",
    "       &nbsp;&nbsp;&nbsp;&nbsp; ...<br>\n",
    "       &nbsp;&nbsp;&nbsp;&nbsp; (vn, vn-1)<br>\n",
    "       The string representation should only show the edges that are present in the graph.<br><br>\n",
    "\n",
    "<b>Note</b>: This implementation would be different than the one shown in lecture notes which is based on adjacency list representation. \n",
    "\n",
    "#### Main program\n",
    "Define and call a `main()` function that uses the Graph class definition to create a Graph object. Create vertices and edges of the graph using Graph object methods. Print graph information using its string representation. \n",
    "\n",
    "Here is a summary of main() function:\n",
    "- `main()` functipn:\n",
    "    - create a graph object G\n",
    "    - add sample data (vertices and edges) to the graph object G\n",
    "    - print the string representation of the graph object G\n",
    "    \n",
    "You may use the sample data based on the graph shown below in your main function:\n",
    "\n",
    "<img src=\"https://upload.wikimedia.org/wikipedia/commons/thumb/5/5b/6n-graf.svg/640px-6n-graf.svg.png\" width=\"300\">\n",
    "\n",
    "(image from [https://upload.wikimedia.org/wikipedia/commons/thumb/5/5b/6n-graf.svg/640px-6n-graf.svg.png](https://upload.wikimedia.org/wikipedia/commons/thumb/5/5b/6n-graf.svg/640px-6n-graf.svg.png))  "
   ]
  },
  {
   "cell_type": "code",
   "execution_count": 2,
   "metadata": {},
   "outputs": [
    {
     "name": "stdout",
     "output_type": "stream",
     "text": [
      "Edges:\n",
      "(1,2)\n",
      "(1,5)\n",
      "(2,1)\n",
      "(2,3)\n",
      "(2,5)\n",
      "(3,2)\n",
      "(3,4)\n",
      "(4,3)\n",
      "(4,5)\n",
      "(4,6)\n",
      "(5,1)\n",
      "(5,2)\n",
      "(5,4)\n",
      "(6,4)\n"
     ]
    }
   ],
   "source": [
    "############################################\n",
    "# Title: MA7 Graph Practice\n",
    "# Author: Rhea Toves\n",
    "# Version: 1.0\n",
    "# Date: April 13, 2022\n",
    "#\n",
    "# Description: This program implements a\n",
    "# weighted graph using an adjacency matrix\n",
    "# representation.\n",
    "############################################\n",
    "\n",
    "import numpy\n",
    "\n",
    "class Graph():\n",
    "    def __init__(self):\n",
    "        # This method initializes the vert_list and adjacency_matrix.\n",
    "        self.vert_list = []\n",
    "        self.adjacency_matrix = numpy.zeros([10,10])\n",
    "\n",
    "    def add_vertex(self, key):\n",
    "        # This method adds a vertex to the vert_list if it does not exist already.\n",
    "        if self.vert_list.count(key) == 0:\n",
    "            self.vert_list.append(key)\n",
    "\n",
    "    def add_edge(self, v1, v2):\n",
    "        # This method adds an edge of weight 1 between vertices v1 and v2, as well as v2 and v1 in the adj_matrix.\n",
    "        self.add_vertex(v1)\n",
    "        self.add_vertex(v2)\n",
    "\n",
    "        max_vertex = max(v1, v2)\n",
    "        length_vertex = len(self.adjacency_matrix)\n",
    "        if max_vertex >= length_vertex:\n",
    "            self.adjacency_matrix = numpy.pad(self.adjacency_matrix, pad_width=1)\n",
    "        self.adjacency_matrix[v1][v2] = 1\n",
    "        self.adjacency_matrix[v2][v1] = 1\n",
    "\n",
    "    def __str__(self):\n",
    "        # This method returns a string representation of the graph.\n",
    "        print(\"Edges:\")\n",
    "        for x in range(len(self.adjacency_matrix)):\n",
    "            for y in range(len(self.adjacency_matrix)):\n",
    "                if self.adjacency_matrix[x][y] == 1:\n",
    "                    print('(', x, ',', y, ')', sep='')\n",
    "\n",
    "def main():\n",
    "    g = Graph()\n",
    "    g.add_edge(6, 4)\n",
    "    g.add_edge(4, 5)\n",
    "    g.add_edge(5, 2)\n",
    "    g.add_edge(5, 1)\n",
    "    g.add_edge(4, 3)\n",
    "    g.add_edge(3, 2)\n",
    "    g.add_edge(2, 1)\n",
    "    g.__str__()\n",
    "\n",
    "main()"
   ]
  },
  {
   "cell_type": "markdown",
   "metadata": {},
   "source": [
    "## Submitting Assignments\n",
    "1.\tUse the Canvas to submit your assignment. You will submit your code to the corresponding Micro Assignment. You must upload your solutions as `<your last name>_ma7.zip` by the due date and time.\n",
    "2.\tYour .zip file should contain your .ipynb file and a .html file representing your Notebook as a webpage (File->Download as->HTML)."
   ]
  },
  {
   "cell_type": "markdown",
   "metadata": {},
   "source": [
    "## Grading Guidelines\n",
    "This assignment is worth 50 points. Your assignment will be evaluated based on a successful compilation and adherence to the program requirements. We will grade according to the following criteria:\n",
    "* 28 pts for answering the conception questions\n",
    "* 20 pts for correct implementation of the Graph using adjacency matrix representation\n",
    "* 2 pts for for adherence to proper programming style and comments established for the class"
   ]
  }
 ],
 "metadata": {
  "anaconda-cloud": {},
  "kernelspec": {
   "display_name": "Python 3 (ipykernel)",
   "language": "python",
   "name": "python3"
  },
  "language_info": {
   "codemirror_mode": {
    "name": "ipython",
    "version": 3
   },
   "file_extension": ".py",
   "mimetype": "text/x-python",
   "name": "python",
   "nbconvert_exporter": "python",
   "pygments_lexer": "ipython3",
   "version": "3.10.0"
  }
 },
 "nbformat": 4,
 "nbformat_minor": 1
}
